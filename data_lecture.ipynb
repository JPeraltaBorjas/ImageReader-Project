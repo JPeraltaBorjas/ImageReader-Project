{
 "cells": [
  {
   "cell_type": "code",
   "execution_count": null,
   "metadata": {},
   "outputs": [],
   "source": [
    "# Direccion del equipo donde esta la aplicacion \"tesseract.exe\"\n",
    "\"\"\"C:\\Users\\JAY\\AppData\\Local\\Programs\\Tesseract-OCR\\tesseract.exe\"\"\""
   ]
  },
  {
   "cell_type": "markdown",
   "metadata": {},
   "source": [
    "# Importación de librerias"
   ]
  },
  {
   "cell_type": "code",
   "execution_count": 1,
   "metadata": {},
   "outputs": [],
   "source": [
    "# Importación de librerias\n",
    "from PIL import Image # Lib para lectura de imagenes\n",
    "import pytesseract # Lib para obtener texto de las imagenes\n",
    "\n",
    "# Librerias para la exportacion del texto a documento word\n",
    "from docx import Document\n",
    "from docx.shared import Pt\n",
    "from docx.oxml.ns import qn\n",
    "from docx.enum.text import WD_PARAGRAPH_ALIGNMENT\n",
    "\n",
    "import re"
   ]
  },
  {
   "cell_type": "markdown",
   "metadata": {},
   "source": [
    "# Imagen a texto"
   ]
  },
  {
   "cell_type": "code",
   "execution_count": 4,
   "metadata": {},
   "outputs": [
    {
     "name": "stdout",
     "output_type": "stream",
     "text": [
      "Persuasion\n",
      "\n",
      "Chapter 1\n",
      "\n",
      "ket —\n",
      "\n",
      "Sir Walter Elliot, of Kellynch Hall, in Som-\n",
      "ersetshire, was a man who, for his own amuse-\n",
      "ment, never took up any book but the\n",
      "Baronetage; there he found occupation for an\n",
      "idle hour, and consolation in a distressed one;\n",
      "there his faculties were roused into admiration\n",
      "and respect, by contemplating the limited rem-\n",
      "nant of the earliest patents; there any unwel-\n",
      "come sensations, arising from domestic affairs\n",
      "changed naturally into pity and contempt as\n",
      "he turned over the almost endless creations of\n",
      "the last century; and there, if every other leaf\n",
      "were powerless, he could read his own history\n",
      "with an interest which never failed. This was\n",
      "the page at which the favourite volume always\n",
      "opened:\n",
      "\n",
      "“Elliot of Kellynch Hall.\n",
      "\n",
      "“Walter Elliot, born March 1, 1760, married,\n",
      "July 15, 1784, Elizabeth, daughter of James\n",
      "Stevenson, Esq. of South Park, in the county of\n",
      "Gloucester, by which lady (who died 1800) he\n",
      "has issue Elizabeth, born June 1, 1785; Anne,\n",
      "born August 9, 1787; a_ still-born son,\n",
      "November 5, 1789; Mary, born November 20,\n",
      "1791.”\n",
      "\n",
      "Precisely such had the paragraph origi-\n",
      "nally stood from the printer’s hands; but Sir\n",
      "Walter had improved it by adding, for the infor-\n",
      "\n",
      "3\n",
      "\n"
     ]
    }
   ],
   "source": [
    "# Configura la ruta de Tesseract si es necesario, por ejemplo en Windows\n",
    "pytesseract.pytesseract.tesseract_cmd = \"C:/Users/JAY/AppData/Local/Programs/Tesseract-OCR/tesseract.exe\"\n",
    "\n",
    "# Carga la imagen y extrae el texto\n",
    "image_path = 'content-project-4/IMG_1202.PNG'\n",
    "image = Image.open(image_path)\n",
    "text = pytesseract.image_to_string(image)\n",
    "\n",
    "# Paso 1: Unir palabras cortadas por guion\n",
    "# text = re.sub(r'(\\w+)-\\n(\\w+)', r'\\1\\2', text)\n",
    "\n",
    "# Paso 2: Remover saltos de línea adicionales para formar párrafos continuos\n",
    "# text = text.replace('\\n', ' ')\n",
    "\n",
    "print(text)"
   ]
  },
  {
   "cell_type": "markdown",
   "metadata": {},
   "source": [
    "# Texto a Documento \"docx\""
   ]
  },
  {
   "cell_type": "code",
   "execution_count": null,
   "metadata": {},
   "outputs": [],
   "source": [
    "# Crear un nuevo documento\n",
    "doc = Document()\n",
    "\n",
    "# Añadir el texto extraído de la imagen\n",
    "paragraph = doc.add_paragraph(text)\n",
    "\n",
    "# Formato del texto\n",
    "run = paragraph.runs[0]\n",
    "run.font.name = 'Arial'       # Cambiar el tipo de letra\n",
    "run.font.size = Pt(14)         # Cambiar el tamaño de letra\n",
    "paragraph.alignment = WD_PARAGRAPH_ALIGNMENT.JUSTIFY   # Alinear el párrafo a justificado\n",
    "\n",
    "# Configurar espaciado entre líneas\n",
    "paragraph_format = paragraph.paragraph_format\n",
    "paragraph_format.line_spacing = 1.5  # Espaciado de 1.5 líneas\n",
    "\n",
    "# Guardar el documento\n",
    "doc.save('content-project-4-finished/resultado_1.docx')\n"
   ]
  },
  {
   "cell_type": "markdown",
   "metadata": {},
   "source": [
    "# Creación de la funcion automatizada"
   ]
  },
  {
   "cell_type": "code",
   "execution_count": null,
   "metadata": {},
   "outputs": [
    {
     "name": "stdout",
     "output_type": "stream",
     "text": [
      "['IMG_1202.PNG', 'IMG_1203.PNG', 'IMG_1204.PNG', 'IMG_1205.PNG']\n"
     ]
    }
   ],
   "source": [
    "import os\n",
    "\n",
    "# Define el directorio que quieres leer\n",
    "directorio = \"content-project-4\"\n",
    "\n",
    "# Lista para almacenar los nombres de los archivos\n",
    "nombres_archivos = []\n",
    "\n",
    "# Leer los archivos del directorio y agregarlos a la lista\n",
    "for archivo in os.listdir(directorio):\n",
    "    # Filtra solo archivos, excluye carpetas\n",
    "    if os.path.isfile(os.path.join(directorio, archivo)):\n",
    "        nombres_archivos.append(archivo)\n",
    "\n",
    "print(nombres_archivos[:4])"
   ]
  },
  {
   "cell_type": "code",
   "execution_count": 29,
   "metadata": {},
   "outputs": [
    {
     "data": {
      "text/plain": [
       "'IMG_1202'"
      ]
     },
     "execution_count": 29,
     "metadata": {},
     "output_type": "execute_result"
    }
   ],
   "source": [
    "nombres_archivos[0].split(\".\")[0]"
   ]
  },
  {
   "cell_type": "code",
   "execution_count": 31,
   "metadata": {},
   "outputs": [],
   "source": [
    "for i in nombres_archivos:\n",
    "    # Carga la imagen y extrae el texto\n",
    "    ruta_input = 'content-project-4/'+ i\n",
    "    image_path = ruta_input\n",
    "    image = Image.open(image_path)\n",
    "    text = pytesseract.image_to_string(image)\n",
    "\n",
    "    # Crear un nuevo documento\n",
    "    doc = Document()\n",
    "\n",
    "    # Añadir el texto extraído de la imagen\n",
    "    paragraph = doc.add_paragraph(text)\n",
    "\n",
    "    # Formato del texto\n",
    "    run = paragraph.runs[0]\n",
    "    run.font.name = 'Arial'       # Cambiar el tipo de letra\n",
    "    run.font.size = Pt(14)         # Cambiar el tamaño de letra\n",
    "    paragraph.alignment = WD_PARAGRAPH_ALIGNMENT.LEFT   # Alineación izquierda\n",
    "\n",
    "    # Configurar espaciado entre líneas\n",
    "    paragraph_format = paragraph.paragraph_format\n",
    "    paragraph_format.line_spacing = 1.5  # Espaciado de 1.5 líneas\n",
    "\n",
    "    # Guardar el documento\n",
    "    nom_archivo = i.split(\".\")[0] + '.docx'\n",
    "    ruta_output = 'content-project-4-finished/' + nom_archivo\n",
    "    doc.save(ruta_output)"
   ]
  }
 ],
 "metadata": {
  "kernelspec": {
   "display_name": "reader_project_lib",
   "language": "python",
   "name": "python3"
  },
  "language_info": {
   "codemirror_mode": {
    "name": "ipython",
    "version": 3
   },
   "file_extension": ".py",
   "mimetype": "text/x-python",
   "name": "python",
   "nbconvert_exporter": "python",
   "pygments_lexer": "ipython3",
   "version": "3.12.2"
  }
 },
 "nbformat": 4,
 "nbformat_minor": 2
}
